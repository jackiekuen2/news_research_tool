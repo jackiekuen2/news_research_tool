{
 "cells": [
  {
   "cell_type": "code",
   "execution_count": 1,
   "id": "8098e789",
   "metadata": {},
   "outputs": [
    {
     "name": "stderr",
     "output_type": "stream",
     "text": [
      "USER_AGENT environment variable not set, consider setting it to identify your requests.\n"
     ]
    }
   ],
   "source": [
    "import os\n",
    "import time\n",
    "from langchain_openai import AzureChatOpenAI, AzureOpenAIEmbeddings\n",
    "from langchain.chains import RetrievalQAWithSourcesChain\n",
    "from langchain_community.document_loaders import UnstructuredURLLoader, SeleniumURLLoader, PlaywrightURLLoader, WebBaseLoader\n",
    "from langchain.text_splitter import RecursiveCharacterTextSplitter\n",
    "# from langchain_community.embeddings import HuggingFaceInstructEmbeddings\n",
    "# from InstructorEmbedding import INSTRUCTOR\n",
    "from langchain_community.vectorstores import FAISS\n",
    "from dotenv import load_dotenv\n"
   ]
  },
  {
   "cell_type": "code",
   "execution_count": 2,
   "id": "eb231c0a",
   "metadata": {},
   "outputs": [],
   "source": [
    "# Loading environment variables\n",
    "load_dotenv()\n",
    "azure_endpoint = os.getenv(\"ENDPOINT_URL\")\n",
    "azure_key = os.getenv(\"API_KEY\")\n",
    "\n",
    "# LLM deployment\n",
    "deployment_name = \"gpt-4o-mini\"\n",
    "api_version = \"2024-05-01-preview\"\n",
    "\n",
    "llm = AzureChatOpenAI(\n",
    "    azure_endpoint = azure_endpoint,\n",
    "    api_key = azure_key,\n",
    "    azure_deployment = deployment_name,\n",
    "    model_name = deployment_name,\n",
    "    api_version = api_version,\n",
    "    max_tokens = 300,\n",
    "    temperature = 0.3\n",
    ")\n",
    "\n",
    "# Embedding deployment\n",
    "# model_name = \"hkunlp/instructor-large\"\n",
    "# model_kwargs = {'device': 'cpu'}\n",
    "# encode_kwargs = {'normalize_embeddings': True}\n",
    "# embeddings = HuggingFaceInstructEmbeddings(\n",
    "#     model_name=model_name,\n",
    "#     model_kwargs=model_kwargs,\n",
    "#     encode_kwargs=encode_kwargs\n",
    "# )\n",
    "\n",
    "embedding_deployment_name = \"text-embedding-3-small\"\n",
    "embedding_api_version = \"2024-12-01-preview\",\n",
    "\n",
    "embeddings = AzureOpenAIEmbeddings(\n",
    "    azure_endpoint = azure_endpoint,\n",
    "    api_key = azure_key,\n",
    "    azure_deployment = embedding_deployment_name\n",
    "    )\n"
   ]
  },
  {
   "cell_type": "code",
   "execution_count": 3,
   "id": "f670b232",
   "metadata": {},
   "outputs": [
    {
     "name": "stdout",
     "output_type": "stream",
     "text": [
      "[Document(metadata={'source': 'https://scikit-learn.org/stable/modules/generated/sklearn.metrics.mean_absolute_percentage_error.html', 'title': 'mean_absolute_percentage_error — scikit-learn 1.6.1 documentation', 'description': 'Gallery examples: Lagged features for time series forecasting', 'language': 'en'}, page_content=\"\\n\\n\\n\\n\\n\\n\\n\\n\\n\\n\\n\\n\\n\\nmean_absolute_percentage_error — scikit-learn 1.6.1 documentation\\n\\n\\n\\n\\n\\n\\n\\n\\n\\n\\n\\n\\n\\n\\n\\n\\n\\n\\n\\n\\n\\n\\n\\n\\n\\n\\n\\n\\n\\n\\n\\n\\n\\n\\n\\n\\n\\n\\n\\n\\n\\n\\n\\n\\n\\n\\n\\n\\n\\n\\nSkip to main content\\n\\n\\nBack to top\\n\\n\\n\\n\\nCtrl+K\\n\\n\\n\\n\\n\\n\\n\\n\\n\\n\\n\\n\\n\\n\\n\\n\\n\\n\\n\\n\\n\\n\\n\\n\\n    Install\\n  \\n\\n\\n\\n    User Guide\\n  \\n\\n\\n\\n    API\\n  \\n\\n\\n\\n    Examples\\n  \\n\\n\\n\\n    Community\\n  \\n\\n\\n\\n                    More\\n                \\n\\n\\n\\n    Getting Started\\n  \\n\\n\\n\\n    Release History\\n  \\n\\n\\n\\n    Glossary\\n  \\n\\n\\n\\n    Development\\n  \\n\\n\\n\\n    FAQ\\n  \\n\\n\\n\\n    Support\\n  \\n\\n\\n\\n    Related Projects\\n  \\n\\n\\n\\n    Roadmap\\n  \\n\\n\\n\\n    Governance\\n  \\n\\n\\n\\n    About us\\n  \\n\\n\\n\\n\\n\\n\\n\\n\\n\\n\\n\\n\\n\\n\\n\\n\\n\\n\\n\\n\\n\\nGitHub\\n\\n\\n\\n\\n\\n    Choose version  \\n\\n\\n\\n\\n\\n\\n\\n\\n\\n\\n\\n\\n\\n\\n\\n\\n\\n\\n\\n\\n\\n\\n\\n\\n\\n\\n\\n\\n\\n    Install\\n  \\n\\n\\n\\n    User Guide\\n  \\n\\n\\n\\n    API\\n  \\n\\n\\n\\n    Examples\\n  \\n\\n\\n\\n    Community\\n  \\n\\n\\n\\n    Getting Started\\n  \\n\\n\\n\\n    Release History\\n  \\n\\n\\n\\n    Glossary\\n  \\n\\n\\n\\n    Development\\n  \\n\\n\\n\\n    FAQ\\n  \\n\\n\\n\\n    Support\\n  \\n\\n\\n\\n    Related Projects\\n  \\n\\n\\n\\n    Roadmap\\n  \\n\\n\\n\\n    Governance\\n  \\n\\n\\n\\n    About us\\n  \\n\\n\\n\\n\\n\\n\\n\\n\\n\\n\\n\\n\\n\\n\\nGitHub\\n\\n\\n\\n\\n\\n    Choose version  \\n\\n\\n\\n\\n\\n\\n\\n\\n\\n\\n\\nSection Navigation\\n\\nsklearn\\nconfig_context\\nget_config\\nset_config\\nshow_versions\\n\\n\\nsklearn.base\\nBaseEstimator\\nBiclusterMixin\\nClassNamePrefixFeaturesOutMixin\\nClassifierMixin\\nClusterMixin\\nDensityMixin\\nMetaEstimatorMixin\\nOneToOneFeatureMixin\\nOutlierMixin\\nRegressorMixin\\nTransformerMixin\\nclone\\nis_classifier\\nis_clusterer\\nis_regressor\\nis_outlier_detector\\n\\n\\nsklearn.calibration\\nCalibratedClassifierCV\\ncalibration_curve\\nCalibrationDisplay\\n\\n\\nsklearn.cluster\\nAffinityPropagation\\nAgglomerativeClustering\\nBirch\\nBisectingKMeans\\nDBSCAN\\nFeatureAgglomeration\\nHDBSCAN\\nKMeans\\nMeanShift\\nMiniBatchKMeans\\nOPTICS\\nSpectralBiclustering\\nSpectralClustering\\nSpectralCoclustering\\naffinity_propagation\\ncluster_optics_dbscan\\ncluster_optics_xi\\ncompute_optics_graph\\ndbscan\\nestimate_bandwidth\\nk_means\\nkmeans_plusplus\\nmean_shift\\nspectral_clustering\\nward_tree\\n\\n\\nsklearn.compose\\nColumnTransformer\\nTransformedTargetRegressor\\nmake_column_selector\\nmake_column_transformer\\n\\n\\nsklearn.covariance\\nEllipticEnvelope\\nEmpiricalCovariance\\nGraphicalLasso\\nGraphicalLassoCV\\nLedoitWolf\\nMinCovDet\\nOAS\\nShrunkCovariance\\nempirical_covariance\\ngraphical_lasso\\nledoit_wolf\\nledoit_wolf_shrinkage\\noas\\nshrunk_covariance\\n\\n\\nsklearn.cross_decomposition\\nCCA\\nPLSCanonical\\nPLSRegression\\nPLSSVD\\n\\n\\nsklearn.datasets\\nclear_data_home\\ndump_svmlight_file\\nfetch_20newsgroups\\nfetch_20newsgroups_vectorized\\nfetch_california_housing\\nfetch_covtype\\nfetch_file\\nfetch_kddcup99\\nfetch_lfw_pairs\\nfetch_lfw_people\\nfetch_olivetti_faces\\nfetch_openml\\nfetch_rcv1\\nfetch_species_distributions\\nget_data_home\\nload_breast_cancer\\nload_diabetes\\nload_digits\\nload_files\\nload_iris\\nload_linnerud\\nload_sample_image\\nload_sample_images\\nload_svmlight_file\\nload_svmlight_files\\nload_wine\\nmake_biclusters\\nmake_blobs\\nmake_checkerboard\\nmake_circles\\nmake_classification\\nmake_friedman1\\nmake_friedman2\\nmake_friedman3\\nmake_gaussian_quantiles\\nmake_hastie_10_2\\nmake_low_rank_matrix\\nmake_moons\\nmake_multilabel_classification\\nmake_regression\\nmake_s_curve\\nmake_sparse_coded_signal\\nmake_sparse_spd_matrix\\nmake_sparse_uncorrelated\\nmake_spd_matrix\\nmake_swiss_roll\\n\\n\\nsklearn.decomposition\\nDictionaryLearning\\nFactorAnalysis\\nFastICA\\nIncrementalPCA\\nKernelPCA\\nLatentDirichletAllocation\\nMiniBatchDictionaryLearning\\nMiniBatchNMF\\nMiniBatchSparsePCA\\nNMF\\nPCA\\nSparseCoder\\nSparsePCA\\nTruncatedSVD\\ndict_learning\\ndict_learning_online\\nfastica\\nnon_negative_factorization\\nsparse_encode\\n\\n\\nsklearn.discriminant_analysis\\nLinearDiscriminantAnalysis\\nQuadraticDiscriminantAnalysis\\n\\n\\nsklearn.dummy\\nDummyClassifier\\nDummyRegressor\\n\\n\\nsklearn.ensemble\\nAdaBoostClassifier\\nAdaBoostRegressor\\nBaggingClassifier\\nBaggingRegressor\\nExtraTreesClassifier\\nExtraTreesRegressor\\nGradientBoostingClassifier\\nGradientBoostingRegressor\\nHistGradientBoostingClassifier\\nHistGradientBoostingRegressor\\nIsolationForest\\nRandomForestClassifier\\nRandomForestRegressor\\nRandomTreesEmbedding\\nStackingClassifier\\nStackingRegressor\\nVotingClassifier\\nVotingRegressor\\n\\n\\nsklearn.exceptions\\nConvergenceWarning\\nDataConversionWarning\\nDataDimensionalityWarning\\nEfficiencyWarning\\nFitFailedWarning\\nInconsistentVersionWarning\\nNotFittedError\\nUndefinedMetricWarning\\nEstimatorCheckFailedWarning\\n\\n\\nsklearn.experimental\\nenable_halving_search_cv\\nenable_iterative_imputer\\n\\n\\nsklearn.feature_extraction\\nDictVectorizer\\nFeatureHasher\\nPatchExtractor\\nextract_patches_2d\\ngrid_to_graph\\nimg_to_graph\\nreconstruct_from_patches_2d\\nCountVectorizer\\nHashingVectorizer\\nTfidfTransformer\\nTfidfVectorizer\\n\\n\\nsklearn.feature_selection\\nGenericUnivariateSelect\\nRFE\\nRFECV\\nSelectFdr\\nSelectFpr\\nSelectFromModel\\nSelectFwe\\nSelectKBest\\nSelectPercentile\\nSelectorMixin\\nSequentialFeatureSelector\\nVarianceThreshold\\nchi2\\nf_classif\\nf_regression\\nmutual_info_classif\\nmutual_info_regression\\nr_regression\\n\\n\\nsklearn.frozen\\nFrozenEstimator\\n\\n\\nsklearn.gaussian_process\\nGaussianProcessClassifier\\nGaussianProcessRegressor\\nCompoundKernel\\nConstantKernel\\nDotProduct\\nExpSineSquared\\nExponentiation\\nHyperparameter\\nKernel\\nMatern\\nPairwiseKernel\\nProduct\\nRBF\\nRationalQuadratic\\nSum\\nWhiteKernel\\n\\n\\nsklearn.impute\\nIterativeImputer\\nKNNImputer\\nMissingIndicator\\nSimpleImputer\\n\\n\\nsklearn.inspection\\npartial_dependence\\npermutation_importance\\nDecisionBoundaryDisplay\\nPartialDependenceDisplay\\n\\n\\nsklearn.isotonic\\nIsotonicRegression\\ncheck_increasing\\nisotonic_regression\\n\\n\\nsklearn.kernel_approximation\\nAdditiveChi2Sampler\\nNystroem\\nPolynomialCountSketch\\nRBFSampler\\nSkewedChi2Sampler\\n\\n\\nsklearn.kernel_ridge\\nKernelRidge\\n\\n\\nsklearn.linear_model\\nLogisticRegression\\nLogisticRegressionCV\\nPassiveAggressiveClassifier\\nPerceptron\\nRidgeClassifier\\nRidgeClassifierCV\\nSGDClassifier\\nSGDOneClassSVM\\nLinearRegression\\nRidge\\nRidgeCV\\nSGDRegressor\\nElasticNet\\nElasticNetCV\\nLars\\nLarsCV\\nLasso\\nLassoCV\\nLassoLars\\nLassoLarsCV\\nLassoLarsIC\\nOrthogonalMatchingPursuit\\nOrthogonalMatchingPursuitCV\\nARDRegression\\nBayesianRidge\\nMultiTaskElasticNet\\nMultiTaskElasticNetCV\\nMultiTaskLasso\\nMultiTaskLassoCV\\nHuberRegressor\\nQuantileRegressor\\nRANSACRegressor\\nTheilSenRegressor\\nGammaRegressor\\nPoissonRegressor\\nTweedieRegressor\\nPassiveAggressiveRegressor\\nenet_path\\nlars_path\\nlars_path_gram\\nlasso_path\\northogonal_mp\\northogonal_mp_gram\\nridge_regression\\n\\n\\nsklearn.manifold\\nIsomap\\nLocallyLinearEmbedding\\nMDS\\nSpectralEmbedding\\nTSNE\\nlocally_linear_embedding\\nsmacof\\nspectral_embedding\\ntrustworthiness\\n\\n\\nsklearn.metrics\\ncheck_scoring\\nget_scorer\\nget_scorer_names\\nmake_scorer\\naccuracy_score\\nauc\\naverage_precision_score\\nbalanced_accuracy_score\\nbrier_score_loss\\nclass_likelihood_ratios\\nclassification_report\\ncohen_kappa_score\\nconfusion_matrix\\nd2_log_loss_score\\ndcg_score\\ndet_curve\\nf1_score\\nfbeta_score\\nhamming_loss\\nhinge_loss\\njaccard_score\\nlog_loss\\nmatthews_corrcoef\\nmultilabel_confusion_matrix\\nndcg_score\\nprecision_recall_curve\\nprecision_recall_fscore_support\\nprecision_score\\nrecall_score\\nroc_auc_score\\nroc_curve\\ntop_k_accuracy_score\\nzero_one_loss\\nd2_absolute_error_score\\nd2_pinball_score\\nd2_tweedie_score\\nexplained_variance_score\\nmax_error\\nmean_absolute_error\\nmean_absolute_percentage_error\\nmean_gamma_deviance\\nmean_pinball_loss\\nmean_poisson_deviance\\nmean_squared_error\\nmean_squared_log_error\\nmean_tweedie_deviance\\nmedian_absolute_error\\nr2_score\\nroot_mean_squared_error\\nroot_mean_squared_log_error\\ncoverage_error\\nlabel_ranking_average_precision_score\\nlabel_ranking_loss\\nadjusted_mutual_info_score\\nadjusted_rand_score\\ncalinski_harabasz_score\\ncontingency_matrix\\npair_confusion_matrix\\ncompleteness_score\\ndavies_bouldin_score\\nfowlkes_mallows_score\\nhomogeneity_completeness_v_measure\\nhomogeneity_score\\nmutual_info_score\\nnormalized_mutual_info_score\\nrand_score\\nsilhouette_samples\\nsilhouette_score\\nv_measure_score\\nconsensus_score\\nDistanceMetric\\nadditive_chi2_kernel\\nchi2_kernel\\ncosine_distances\\ncosine_similarity\\ndistance_metrics\\neuclidean_distances\\nhaversine_distances\\nkernel_metrics\\nlaplacian_kernel\\nlinear_kernel\\nmanhattan_distances\\nnan_euclidean_distances\\npaired_cosine_distances\\npaired_distances\\npaired_euclidean_distances\\npaired_manhattan_distances\\npairwise_kernels\\npolynomial_kernel\\nrbf_kernel\\nsigmoid_kernel\\npairwise_distances\\npairwise_distances_argmin\\npairwise_distances_argmin_min\\npairwise_distances_chunked\\nConfusionMatrixDisplay\\nDetCurveDisplay\\nPrecisionRecallDisplay\\nPredictionErrorDisplay\\nRocCurveDisplay\\n\\n\\nsklearn.mixture\\nBayesianGaussianMixture\\nGaussianMixture\\n\\n\\nsklearn.model_selection\\nGroupKFold\\nGroupShuffleSplit\\nKFold\\nLeaveOneGroupOut\\nLeaveOneOut\\nLeavePGroupsOut\\nLeavePOut\\nPredefinedSplit\\nRepeatedKFold\\nRepeatedStratifiedKFold\\nShuffleSplit\\nStratifiedGroupKFold\\nStratifiedKFold\\nStratifiedShuffleSplit\\nTimeSeriesSplit\\ncheck_cv\\ntrain_test_split\\nGridSearchCV\\nHalvingGridSearchCV\\nHalvingRandomSearchCV\\nParameterGrid\\nParameterSampler\\nRandomizedSearchCV\\nFixedThresholdClassifier\\nTunedThresholdClassifierCV\\ncross_val_predict\\ncross_val_score\\ncross_validate\\nlearning_curve\\npermutation_test_score\\nvalidation_curve\\nLearningCurveDisplay\\nValidationCurveDisplay\\n\\n\\nsklearn.multiclass\\nOneVsOneClassifier\\nOneVsRestClassifier\\nOutputCodeClassifier\\n\\n\\nsklearn.multioutput\\nClassifierChain\\nMultiOutputClassifier\\nMultiOutputRegressor\\nRegressorChain\\n\\n\\nsklearn.naive_bayes\\nBernoulliNB\\nCategoricalNB\\nComplementNB\\nGaussianNB\\nMultinomialNB\\n\\n\\nsklearn.neighbors\\nBallTree\\nKDTree\\nKNeighborsClassifier\\nKNeighborsRegressor\\nKNeighborsTransformer\\nKernelDensity\\nLocalOutlierFactor\\nNearestCentroid\\nNearestNeighbors\\nNeighborhoodComponentsAnalysis\\nRadiusNeighborsClassifier\\nRadiusNeighborsRegressor\\nRadiusNeighborsTransformer\\nkneighbors_graph\\nradius_neighbors_graph\\nsort_graph_by_row_values\\n\\n\\nsklearn.neural_network\\nBernoulliRBM\\nMLPClassifier\\nMLPRegressor\\n\\n\\nsklearn.pipeline\\nFeatureUnion\\nPipeline\\nmake_pipeline\\nmake_union\\n\\n\\nsklearn.preprocessing\\nBinarizer\\nFunctionTransformer\\nKBinsDiscretizer\\nKernelCenterer\\nLabelBinarizer\\nLabelEncoder\\nMaxAbsScaler\\nMinMaxScaler\\nMultiLabelBinarizer\\nNormalizer\\nOneHotEncoder\\nOrdinalEncoder\\nPolynomialFeatures\\nPowerTransformer\\nQuantileTransformer\\nRobustScaler\\nSplineTransformer\\nStandardScaler\\nTargetEncoder\\nadd_dummy_feature\\nbinarize\\nlabel_binarize\\nmaxabs_scale\\nminmax_scale\\nnormalize\\npower_transform\\nquantile_transform\\nrobust_scale\\nscale\\n\\n\\nsklearn.random_projection\\nGaussianRandomProjection\\nSparseRandomProjection\\njohnson_lindenstrauss_min_dim\\n\\n\\nsklearn.semi_supervised\\nLabelPropagation\\nLabelSpreading\\nSelfTrainingClassifier\\n\\n\\nsklearn.svm\\nLinearSVC\\nLinearSVR\\nNuSVC\\nNuSVR\\nOneClassSVM\\nSVC\\nSVR\\nl1_min_c\\n\\n\\nsklearn.tree\\nDecisionTreeClassifier\\nDecisionTreeRegressor\\nExtraTreeClassifier\\nExtraTreeRegressor\\nexport_graphviz\\nexport_text\\nplot_tree\\n\\n\\nsklearn.utils\\nBunch\\n_safe_indexing\\nas_float_array\\nassert_all_finite\\ndeprecated\\nestimator_html_repr\\ngen_batches\\ngen_even_slices\\nindexable\\nmurmurhash3_32\\nresample\\nsafe_mask\\nsafe_sqr\\nshuffle\\nTags\\nInputTags\\nTargetTags\\nClassifierTags\\nRegressorTags\\nTransformerTags\\nget_tags\\ncheck_X_y\\ncheck_array\\ncheck_consistent_length\\ncheck_random_state\\ncheck_scalar\\ncheck_is_fitted\\ncheck_memory\\ncheck_symmetric\\ncolumn_or_1d\\nhas_fit_parameter\\nvalidate_data\\navailable_if\\ncompute_class_weight\\ncompute_sample_weight\\nis_multilabel\\ntype_of_target\\nunique_labels\\ndensity\\nfast_logdet\\nrandomized_range_finder\\nrandomized_svd\\nsafe_sparse_dot\\nweighted_mode\\nincr_mean_variance_axis\\ninplace_column_scale\\ninplace_csr_column_scale\\ninplace_row_scale\\ninplace_swap_column\\ninplace_swap_row\\nmean_variance_axis\\ninplace_csr_row_normalize_l1\\ninplace_csr_row_normalize_l2\\nsingle_source_shortest_path_length\\nsample_without_replacement\\nmin_pos\\nMetadataRequest\\nMetadataRouter\\nMethodMapping\\nget_routing_for_object\\nprocess_routing\\nall_displays\\nall_estimators\\nall_functions\\ncheck_estimator\\nparametrize_with_checks\\nestimator_checks_generator\\nParallel\\ndelayed\\n\\n\\nRecently Deprecated\\nparallel_backend\\nregister_parallel_backend\\n\\n\\n\\n\\n\\n\\n\\n\\n\\n\\n\\n\\n\\n\\n\\n\\n\\n\\n\\n\\n\\n\\n\\nAPI Reference\\nsklearn.metrics\\nmean_absolute_percentage_error\\n\\n\\n\\n\\n\\n\\n\\n\\n\\nmean_absolute_percentage_error#\\n\\n\\nsklearn.metrics.mean_absolute_percentage_error(y_true, y_pred, *, sample_weight=None, multioutput='uniform_average')[source]#\\nMean absolute percentage error (MAPE) regression loss.\\nNote that we are not using the common “percentage” definition: the percentage\\nin the range [0, 100] is converted to a relative value in the range [0, 1]\\nby dividing by 100. Thus, an error of 200% corresponds to a relative error of 2.\\nRead more in the User Guide.\\n\\nAdded in version 0.24.\\n\\n\\nParameters:\\n\\ny_truearray-like of shape (n_samples,) or (n_samples, n_outputs)Ground truth (correct) target values.\\n\\ny_predarray-like of shape (n_samples,) or (n_samples, n_outputs)Estimated target values.\\n\\nsample_weightarray-like of shape (n_samples,), default=NoneSample weights.\\n\\nmultioutput{‘raw_values’, ‘uniform_average’} or array-likeDefines aggregating of multiple output values.\\nArray-like value defines weights used to average errors.\\nIf input is list then the shape must be (n_outputs,).\\n\\n‘raw_values’ :Returns a full set of errors in case of multioutput input.\\n\\n‘uniform_average’ :Errors of all outputs are averaged with uniform weight.\\n\\n\\n\\n\\n\\nReturns:\\n\\nlossfloat or ndarray of floatsIf multioutput is ‘raw_values’, then mean absolute percentage error\\nis returned for each output separately.\\nIf multioutput is ‘uniform_average’ or an ndarray of weights, then the\\nweighted average of all output errors is returned.\\nMAPE output is non-negative floating point. The best value is 0.0.\\nBut note that bad predictions can lead to arbitrarily large\\nMAPE values, especially if some y_true values are very close to zero.\\nNote that we return a large value instead of inf when y_true is zero.\\n\\n\\n\\n\\nExamples\\n>>> from sklearn.metrics import mean_absolute_percentage_error\\n>>> y_true = [3, -0.5, 2, 7]\\n>>> y_pred = [2.5, 0.0, 2, 8]\\n>>> mean_absolute_percentage_error(y_true, y_pred)\\n0.3273...\\n>>> y_true = [[0.5, 1], [-1, 1], [7, -6]]\\n>>> y_pred = [[0, 2], [-1, 2], [8, -5]]\\n>>> mean_absolute_percentage_error(y_true, y_pred)\\n0.5515...\\n>>> mean_absolute_percentage_error(y_true, y_pred, multioutput=[0.3, 0.7])\\n0.6198...\\n>>> # the value when some element of the y_true is zero is arbitrarily high because\\n>>> # of the division by epsilon\\n>>> y_true = [1., 0., 2.4, 7.]\\n>>> y_pred = [1.2, 0.1, 2.4, 8.]\\n>>> mean_absolute_percentage_error(y_true, y_pred)\\n112589990684262.48\\n\\n\\n\\n\\nGallery examples#\\n\\nLagged features for time series forecasting\\nLagged features for time series forecasting\\n\\n\\n\\n\\n\\n\\n\\n\\n\\n\\nprevious\\nmean_absolute_error\\n\\n\\n\\n\\nnext\\nmean_gamma_deviance\\n\\n\\n\\n\\n\\n\\n\\n\\n\\n\\n\\n On this page\\n  \\n\\n\\nmean_absolute_percentage_error\\nGallery examples\\n\\n\\n\\n\\nThis Page\\n\\nShow Source\\n\\n\\n\\n\\n\\n\\n\\n\\n\\n\\n\\n\\n\\n\\n\\n\\n\\n    \\n      © Copyright 2007 - 2025, scikit-learn developers (BSD License).\\n      \\n\\n\\n\\n\\n\\n\\n\")]\n"
     ]
    }
   ],
   "source": [
    "# url = \"https://finance.yahoo.com/m/e98645b8-09d9-3220-b404-3e559b2659db/7-stocks-burn-a-2-5-trillion.html\"\n",
    "url = \"https://scikit-learn.org/stable/modules/generated/sklearn.metrics.mean_absolute_percentage_error.html\"\n",
    "urls = []\n",
    "urls.append(url)\n",
    "\n",
    "# loader = UnstructuredURLLoader(urls=urls)\n",
    "# loader = SeleniumURLLoader(\n",
    "#     urls=urls,\n",
    "#     headless=True\n",
    "# )  \n",
    "# loader = PlaywrightURLLoader(urls=urls, remove_selectors=[\"header\", \"footer\"])\n",
    "# data = await loader.load()\n",
    "\n",
    "loader = WebBaseLoader(web_paths=urls)\n",
    "\n",
    "for url in urls: \n",
    "    try:\n",
    "        data = loader.load()\n",
    "        print(data)\n",
    "        time.sleep(2)\n",
    "    except Exception as e:\n",
    "        print(f\"Error loading data: {e}\")\n",
    "\n",
    "r_splitter = RecursiveCharacterTextSplitter(\n",
    "separators=[\"\\n\\n\", \"\\n\", \".\", \",\"],\n",
    "chunk_size = 500,\n",
    "chunk_overlap = 0\n",
    ")\n",
    "docs = r_splitter.split_documents(data)\n",
    "\n",
    "# creat embeddings and save it to FAISS index\n",
    "vectorstore = FAISS.from_documents(docs, embeddings)\n",
    "\n",
    "vectorstore.save_local(\"faiss_vectorstore\")"
   ]
  },
  {
   "cell_type": "code",
   "execution_count": 4,
   "id": "c9a4e805",
   "metadata": {},
   "outputs": [],
   "source": [
    "try:\n",
    "    faiss_vectorstore = FAISS.load_local(\n",
    "        \"faiss_vectorstore\", \n",
    "        embeddings, \n",
    "        allow_dangerous_deserialization=True\n",
    "    )\n",
    "except Exception as e:\n",
    "    print(f\"Error loading FAISS vectorstore: {e}\")\n",
    "\n",
    "chain = RetrievalQAWithSourcesChain.from_llm(llm=llm, retriever=faiss_vectorstore.as_retriever())"
   ]
  },
  {
   "cell_type": "code",
   "execution_count": 5,
   "id": "f8cd6297",
   "metadata": {},
   "outputs": [
    {
     "name": "stdout",
     "output_type": "stream",
     "text": [
      "Query: What is MAPE? When should I use it? How should I tell if the model is good or bad?\n",
      "Answer: MAPE stands for Mean Absolute Percentage Error. It is a regression loss metric that measures the accuracy of a forecasting method. The output of MAPE is a non-negative floating point, with the best value being 0.0. However, it is important to note that bad predictions can lead to arbitrarily large MAPE values, especially if some true values are very close to zero. MAPE is particularly useful for understanding the percentage error in predictions.\n",
      "\n",
      "To determine if a model is good or bad using MAPE, you should look for lower values, as a lower MAPE indicates better predictive accuracy. However, keep in mind that MAPE can be misleading if the actual values are close to zero.\n",
      "\n",
      "\n"
     ]
    }
   ],
   "source": [
    "query = \"What is MAPE? When should I use it? How should I tell if the model is good or bad?\"\n",
    "\n",
    "print(\"Query:\", query)\n",
    "result = chain.invoke({\"question\": query}, return_only_outputs=True)\n",
    "print(\"Answer:\", result[\"answer\"])"
   ]
  }
 ],
 "metadata": {
  "kernelspec": {
   "display_name": "venv_312",
   "language": "python",
   "name": "python3"
  },
  "language_info": {
   "codemirror_mode": {
    "name": "ipython",
    "version": 3
   },
   "file_extension": ".py",
   "mimetype": "text/x-python",
   "name": "python",
   "nbconvert_exporter": "python",
   "pygments_lexer": "ipython3",
   "version": "3.12.0"
  }
 },
 "nbformat": 4,
 "nbformat_minor": 5
}
