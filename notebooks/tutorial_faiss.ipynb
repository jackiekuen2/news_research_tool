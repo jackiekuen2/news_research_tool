{
 "cells": [
  {
   "cell_type": "code",
   "execution_count": 18,
   "id": "1b7535c1",
   "metadata": {},
   "outputs": [],
   "source": [
    "import pandas as pd\n",
    "from sentence_transformers import SentenceTransformer\n",
    "import faiss\n",
    "import numpy as np"
   ]
  },
  {
   "cell_type": "code",
   "execution_count": 2,
   "id": "16a1dff6",
   "metadata": {},
   "outputs": [
    {
     "name": "stdout",
     "output_type": "stream",
     "text": [
      "(8, 2)\n",
      "                                                text category\n",
      "0      Meditation and yoga can improve mental health   Health\n",
      "1  Fruits, whole grains and vegetables helps cont...   Health\n",
      "2  These are the latest fashion trends for this week  Fashion\n",
      "3  Vibrant color jeans for male are becoming a trend  Fashion\n",
      "4                 The concert starts at 7 PM tonight    Event\n",
      "5  Navaratri dandiya program at Expo center in Mu...    Event\n",
      "6  Exciting vacation destinations for your next trip   Travel\n",
      "7  Maldives and Srilanka are gaining popularity i...   Travel\n"
     ]
    }
   ],
   "source": [
    "df = pd.read_csv(\"sample_text.csv\")\n",
    "\n",
    "print(df.shape)\n",
    "print(df)"
   ]
  },
  {
   "cell_type": "markdown",
   "id": "fb279b72",
   "metadata": {},
   "source": [
    "# Step 1: Create source embeddings for the text column -> Encoder"
   ]
  },
  {
   "cell_type": "code",
   "execution_count": 3,
   "id": "e0a4558e",
   "metadata": {},
   "outputs": [],
   "source": [
    "encoder = SentenceTransformer(\"all-mpnet-base-v2\")"
   ]
  },
  {
   "cell_type": "code",
   "execution_count": 4,
   "id": "08ca8ffd",
   "metadata": {},
   "outputs": [],
   "source": [
    "vectors = encoder.encode(df.text)"
   ]
  },
  {
   "cell_type": "code",
   "execution_count": 7,
   "id": "4a819e6a",
   "metadata": {},
   "outputs": [
    {
     "data": {
      "text/plain": [
       "(8, 768)"
      ]
     },
     "execution_count": 7,
     "metadata": {},
     "output_type": "execute_result"
    }
   ],
   "source": [
    "vectors.shape"
   ]
  },
  {
   "cell_type": "code",
   "execution_count": 8,
   "id": "2e316a95",
   "metadata": {},
   "outputs": [
    {
     "name": "stdout",
     "output_type": "stream",
     "text": [
      "768\n"
     ]
    }
   ],
   "source": [
    "dim = vectors.shape[1]\n",
    "\n",
    "print(dim)"
   ]
  },
  {
   "cell_type": "markdown",
   "id": "e622492e",
   "metadata": {},
   "source": [
    "# Step 2: Build a FAISS index for vectors -> Vector database"
   ]
  },
  {
   "cell_type": "code",
   "execution_count": 10,
   "id": "d9b05d6f",
   "metadata": {},
   "outputs": [],
   "source": [
    "index = faiss.IndexFlatL2(dim)"
   ]
  },
  {
   "cell_type": "markdown",
   "id": "50a9ff77",
   "metadata": {},
   "source": [
    "# Step 3: Normalise the source vectors\n",
    "We are using LS distances to measure similarity, and add to the index"
   ]
  },
  {
   "cell_type": "code",
   "execution_count": 12,
   "id": "15b45880",
   "metadata": {},
   "outputs": [],
   "source": [
    "index.add(vectors)"
   ]
  },
  {
   "cell_type": "code",
   "execution_count": 13,
   "id": "643eb960",
   "metadata": {},
   "outputs": [
    {
     "data": {
      "text/plain": [
       "<faiss.swigfaiss_avx2.IndexFlatL2; proxy of <Swig Object of type 'faiss::IndexFlatL2 *' at 0x12b07aee0> >"
      ]
     },
     "execution_count": 13,
     "metadata": {},
     "output_type": "execute_result"
    }
   ],
   "source": [
    "index"
   ]
  },
  {
   "cell_type": "markdown",
   "id": "2e83a6ea",
   "metadata": {},
   "source": [
    "# Step 4: Encode search query using same encoder and normalise the output vector"
   ]
  },
  {
   "cell_type": "code",
   "execution_count": 42,
   "id": "9ceb5d94",
   "metadata": {},
   "outputs": [],
   "source": [
    "search_query = \"I want to go travelling\"\n",
    "\n",
    "search_vec = encoder.encode(search_query)"
   ]
  },
  {
   "cell_type": "code",
   "execution_count": 43,
   "id": "cba8e1f1",
   "metadata": {},
   "outputs": [
    {
     "data": {
      "text/plain": [
       "(768,)"
      ]
     },
     "execution_count": 43,
     "metadata": {},
     "output_type": "execute_result"
    }
   ],
   "source": [
    "search_vec.shape"
   ]
  },
  {
   "cell_type": "code",
   "execution_count": 44,
   "id": "2df5dd10",
   "metadata": {},
   "outputs": [
    {
     "data": {
      "text/plain": [
       "(1, 768)"
      ]
     },
     "execution_count": 44,
     "metadata": {},
     "output_type": "execute_result"
    }
   ],
   "source": [
    "search_vec_np = np.array(search_vec).reshape(1, -1)\n",
    "\n",
    "search_vec_np.shape"
   ]
  },
  {
   "cell_type": "markdown",
   "id": "8a0b7783",
   "metadata": {},
   "source": [
    "# Step 5: Search for similar vector(s) in the FAISS index"
   ]
  },
  {
   "cell_type": "code",
   "execution_count": 45,
   "id": "568c8e17",
   "metadata": {},
   "outputs": [],
   "source": [
    "distances, I = index.search(search_vec_np, k=3)"
   ]
  },
  {
   "cell_type": "code",
   "execution_count": 46,
   "id": "57be8b49",
   "metadata": {},
   "outputs": [
    {
     "data": {
      "text/plain": [
       "array([[1.0216081, 1.2387117, 1.487431 ]], dtype=float32)"
      ]
     },
     "execution_count": 46,
     "metadata": {},
     "output_type": "execute_result"
    }
   ],
   "source": [
    "distances"
   ]
  },
  {
   "cell_type": "code",
   "execution_count": 47,
   "id": "069f55de",
   "metadata": {},
   "outputs": [
    {
     "data": {
      "text/plain": [
       "array([[6, 7, 5]])"
      ]
     },
     "execution_count": 47,
     "metadata": {},
     "output_type": "execute_result"
    }
   ],
   "source": [
    "I"
   ]
  },
  {
   "cell_type": "code",
   "execution_count": 48,
   "id": "6c1d1db4",
   "metadata": {},
   "outputs": [
    {
     "name": "stdout",
     "output_type": "stream",
     "text": [
      "Question:  I want to go travelling\n",
      "Suggested answer:  Exciting vacation destinations for your next trip\n",
      "Question:  I want to go travelling\n",
      "Suggested answer:  Maldives and Srilanka are gaining popularity in terms of low budget vacation places\n",
      "Question:  I want to go travelling\n",
      "Suggested answer:  Navaratri dandiya program at Expo center in Mumbai this october\n"
     ]
    }
   ],
   "source": [
    "for row_index in I.tolist()[0]:\n",
    "    print(\"Question: \", search_query)\n",
    "    print(\"Suggested answer: \", df.loc[row_index].text)"
   ]
  }
 ],
 "metadata": {
  "kernelspec": {
   "display_name": "venv_312",
   "language": "python",
   "name": "python3"
  },
  "language_info": {
   "codemirror_mode": {
    "name": "ipython",
    "version": 3
   },
   "file_extension": ".py",
   "mimetype": "text/x-python",
   "name": "python",
   "nbconvert_exporter": "python",
   "pygments_lexer": "ipython3",
   "version": "3.12.0"
  }
 },
 "nbformat": 4,
 "nbformat_minor": 5
}
